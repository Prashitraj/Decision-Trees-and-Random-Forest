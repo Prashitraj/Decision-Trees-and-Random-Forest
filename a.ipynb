{
  "nbformat": 4,
  "nbformat_minor": 0,
  "metadata": {
    "colab": {
      "name": "a.ipynb",
      "provenance": [],
      "collapsed_sections": []
    },
    "kernelspec": {
      "name": "python3",
      "display_name": "Python 3"
    }
  },
  "cells": [
    {
      "cell_type": "code",
      "metadata": {
        "id": "LrM0XFpkMujT",
        "colab_type": "code",
        "colab": {}
      },
      "source": [
        "import numpy as np\n",
        "import scipy.sparse as sp\n",
        "import math\n",
        "import pickle\n",
        "import matplotlib.pyplot as plt"
      ],
      "execution_count": 0,
      "outputs": []
    },
    {
      "cell_type": "code",
      "metadata": {
        "id": "-ah3xabMMzuv",
        "colab_type": "code",
        "colab": {}
      },
      "source": [
        "class Node:\n",
        "    def __init__(self,indices,depth):\n",
        "        self.indices = indices #contains all the index for of datax and datay to be processes by the node \n",
        "        self.attribute = None #at what attribute (best) we splitted (if not leaf)\n",
        "        self.left = None #list of all the children nodes at which we splitted this\n",
        "        self.right = None\n",
        "        self.aval = None #label assigned to the node (if leaf)\n",
        "        self.depth = depth #depth at each node\n",
        "        self.label = None\n",
        "        self.below = None\n",
        "        self.itself = None\n",
        "        return\n",
        "\n",
        "    def add_child(self,li,ri,attribute,aval,label):\n",
        "        self.left = Node(li,self.depth+1)\n",
        "        self.right = Node(ri,self.depth+1)\n",
        "        self.attribute = attribute\n",
        "        self.aval = aval\n",
        "        self.label = label\n",
        "        return\n",
        "    \n",
        "    def add_label(self,label):\n",
        "        self.label = label\n",
        "        return\n",
        "\n",
        "  "
      ],
      "execution_count": 0,
      "outputs": []
    },
    {
      "cell_type": "code",
      "metadata": {
        "id": "NOY1xpfcM45o",
        "colab_type": "code",
        "colab": {}
      },
      "source": [
        "def get_entropy(datay):\n",
        "    countpos = np.sum(datay)\n",
        "    countneg = datay.size - countpos\n",
        "    p0 = (countneg * 1.0) / (countneg + countpos)\n",
        "    p1 = 1.0 - p0\n",
        "    try:\n",
        "        val = ((p0 * math.log(p0, 2)) + (p1 * math.log(p1, 2)))\n",
        "    except:\n",
        "        val = 0.0 #takes the value 0 in the limiting case\n",
        "    return (-1.0 * val)"
      ],
      "execution_count": 0,
      "outputs": []
    },
    {
      "cell_type": "code",
      "metadata": {
        "id": "nxlMzHTXM-L0",
        "colab_type": "code",
        "colab": {}
      },
      "source": [
        "def cond_entropy(data):\n",
        "    med = np.median(data[:,0])\n",
        "    l = data[data[:,0]<=med]\n",
        "    r = data[data[:,0]>med]\n",
        "    pl = float(len(l))/(len(l)+len(r))\n",
        "    pr = 1.-pl\n",
        "    if (len(l)>0 and len(r)>0):\n",
        "        ce = pl*get_entropy(l[:,1])+pr*get_entropy(r[:,1])\n",
        "    else:\n",
        "        ce = math.inf\n",
        "    return ce,med,l[:,2],r[:,2]"
      ],
      "execution_count": 0,
      "outputs": []
    },
    {
      "cell_type": "code",
      "metadata": {
        "id": "_pWkVNbXNFFU",
        "colab_type": "code",
        "colab": {}
      },
      "source": [
        "def choose_best_feature(indices):\n",
        "    data = train[indices,482]\n",
        "    h = get_entropy(data)\n",
        "    p1 = np.sum(data)\n",
        "    label = 0\n",
        "    if p1*2 > len(data):\n",
        "        label = 1\n",
        "    in_data = np.zeros((len(data),3),dtype = 'int')\n",
        "    in_data[:,0] = train[indices,0]\n",
        "    in_data[:,1] = train[indices,482]\n",
        "    in_data[:,2] = train[indices,483]\n",
        "    ce,med,li,ri = cond_entropy(in_data)\n",
        "    mi = h - ce\n",
        "    index = 0\n",
        "    for i in range(1,482):\n",
        "        in_data[:,0] = train[indices,i]\n",
        "        ce_temp,med_temp,li_temp,ri_temp = cond_entropy(in_data)\n",
        "        mi_temp = h - ce_temp\n",
        "        if mi<mi_temp:\n",
        "            mi = mi_temp\n",
        "            index= i\n",
        "            li = li_temp\n",
        "            ri = ri_temp\n",
        "            med = med_temp\n",
        "    return mi,index,med,li,ri,label"
      ],
      "execution_count": 0,
      "outputs": []
    },
    {
      "cell_type": "code",
      "metadata": {
        "id": "GfLoR5iPNJgY",
        "colab_type": "code",
        "colab": {}
      },
      "source": [
        "def generate_tree(node):\n",
        "    global num_nodes\n",
        "    global h_depth\n",
        "\n",
        "    num_nodes += 1\n",
        "    if node.depth > h_depth:\n",
        "        h_depth = node.depth \n",
        "    mi,att,med,l,r,label = choose_best_feature(node.indices)    \n",
        "    if len(l>0) and len(r)>0 and mi>0:\n",
        "        node.add_child(l,r,att,med,label)\n",
        "    else: \n",
        "        node.add_label(label)\n",
        "    if node.left != None:\n",
        "        generate_tree(node.left)\n",
        "    if node.right != None:\n",
        "        generate_tree(node.right)\n",
        "    return"
      ],
      "execution_count": 0,
      "outputs": []
    },
    {
      "cell_type": "code",
      "metadata": {
        "id": "haiyCIv_H9bl",
        "colab_type": "code",
        "colab": {}
      },
      "source": [
        "pickle_in = open(\"/content/drive/My Drive/train.pk\",\"rb\")\n",
        "trainx = pickle.load(pickle_in)\n",
        "pickle_in.close()\n",
        "\n",
        "pickle_in = open(\"/content/drive/My Drive/test.pk\",\"rb\")\n",
        "testx = pickle.load(pickle_in)\n",
        "pickle_in.close()\n",
        "\n",
        "pickle_in = open(\"/content/drive/My Drive/valid.pk\",\"rb\")\n",
        "validx = pickle.load(pickle_in)\n",
        "pickle_in.close()"
      ],
      "execution_count": 0,
      "outputs": []
    },
    {
      "cell_type": "code",
      "metadata": {
        "id": "XtVGvutaNNo1",
        "colab_type": "code",
        "outputId": "c4860b23-6317-41d8-e588-2af1558936b2",
        "colab": {
          "base_uri": "https://localhost:8080/",
          "height": 68
        }
      },
      "source": [
        "# Read file with y data\n",
        "trainy = []\n",
        "testy = []\n",
        "validy = []\n",
        "\n",
        "with open('/content/drive/My Drive/train_y.txt') as fy:\n",
        "    for line in fy:\n",
        "        trainy.append(float(line))\n",
        "trainy = np.array(trainy,dtype = 'int')\n",
        "# print(trainy.shape)\n",
        "\n",
        "with open('/content/drive/My Drive/test_y.txt') as fy:\n",
        "    for line in fy:\n",
        "        testy.append(float(line))\n",
        "testy = np.array(testy,dtype = 'int')\n",
        "# print(testy.shape)\n",
        "\n",
        "with open('/content/drive/My Drive/valid_y.txt') as fy:\n",
        "    for line in fy:\n",
        "        validy.append(float(line))\n",
        "validy = np.array(validy,dtype = 'int')\n",
        "# print(validy.shape)\n",
        "\n",
        "row_train,col_train = trainx.shape\n",
        "train = np.zeros((row_train,col_train+2),dtype = 'int')\n",
        "train[:,:col_train] = np.array(trainx,dtype = 'int')\n",
        "train[:,col_train] = trainy\n",
        "train[:,col_train+1] = np.arange(row_train)\n",
        "\n",
        "row_valid,col_valid = validx.shape\n",
        "valid = np.zeros((row_valid,col_valid+2),dtype = 'int')\n",
        "valid[:,:col_valid] = np.array(validx,dtype = 'int')\n",
        "valid[:,col_valid] = validy\n",
        "valid[:,col_train+1] = np.arange(row_valid)\n",
        "\n",
        "row_test,col_test = testx.shape\n",
        "test = np.zeros((row_test,col_test+2),dtype = 'int')\n",
        "test[:,:col_test] = np.array(testx,dtype = 'int')\n",
        "test[:,col_test] = testy\n",
        "test[:,col_test+1] = np.arange(row_test)\n",
        "\n",
        "\n",
        "num_nodes=0\n",
        "h_depth = 0\n",
        "root = Node(train[:,483],0)\n",
        "generate_tree(root)\n",
        "print(\"Training  Completed!!!!!!!\")\n",
        "print(num_nodes)\n",
        "print(h_depth)\n"
      ],
      "execution_count": 11,
      "outputs": [
        {
          "output_type": "stream",
          "text": [
            "Training  Completed!!!!!!!\n",
            "19977\n",
            "52\n"
          ],
          "name": "stdout"
        }
      ]
    },
    {
      "cell_type": "code",
      "metadata": {
        "id": "ukIZYwpqiENj",
        "colab_type": "code",
        "colab": {}
      },
      "source": [
        "# pruning \n",
        "def prune(node):\n",
        "    datay = valid[node.indices,482]\n",
        "    datay = datay[datay[:] == node.label]\n",
        "    node.itself = len(datay) \n",
        "    if node.left != None and node.right != None:\n",
        "        l = node.indices[valid[node.indices,node.attribute]<=node.aval]\n",
        "        r = node.indices[valid[node.indices,node.attribute]>node.aval]\n",
        "        node.left.indices = l\n",
        "        node.right.indices = r\n",
        "        prune(node.left)\n",
        "        prune(node.right)\n",
        "        node.below = node.right.below+node.left.below\n",
        "    else:\n",
        "        node.below = node.itself\n",
        "    if node.below<node.itself:\n",
        "        node.left = None\n",
        "        node.right = None\n",
        "    return \n",
        "\n"
      ],
      "execution_count": 0,
      "outputs": []
    },
    {
      "cell_type": "code",
      "metadata": {
        "id": "gq2EUVTTVtbV",
        "colab_type": "code",
        "colab": {}
      },
      "source": [
        "# testing\n",
        "\n",
        "def get_accuracy(node):\n",
        "    global node_count\n",
        "    global acc\n",
        "    global total\n",
        "    datay = train[node.indices,482]\n",
        "    total[node.depth] += len(datay)\n",
        "    if (node.left == None and node.right == None):\n",
        "        total[node.depth+1:] += len(datay)\n",
        "    datay = datay[datay[:] == node.label]\n",
        "    acc[node.depth] += len(datay)\n",
        "    if (node.left == None and node.right == None):\n",
        "        acc[node.depth+1:] += len(datay)\n",
        "    node_count[node.depth] += 1\n",
        "    if (node.left != None and node.right != None):\n",
        "        l = node.indices[train[node.indices,node.attribute]<=node.aval]\n",
        "        r = node.indices[train[node.indices,node.attribute]>node.aval]\n",
        "        node.left.indices = l\n",
        "        node.right.indices = r\n",
        "        get_accuracy(node.left)\n",
        "        get_accuracy(node.right)\n",
        "    return\n",
        "\n",
        "def get_accuracy_valid(node):\n",
        "    global node_count_valid\n",
        "    global acc_valid\n",
        "    global total_valid\n",
        "    datay = valid[node.indices,482]\n",
        "    total_valid[node.depth] += len(datay)\n",
        "    if (node.left == None and node.right == None):\n",
        "        total_valid[node.depth+1:] += len(datay)\n",
        "    datay = datay[datay[:] == node.label]\n",
        "    acc_valid[node.depth] += len(datay)\n",
        "    if (node.left == None and node.right == None):\n",
        "        acc_valid[node.depth+1:] += len(datay)\n",
        "    node_count_valid[node.depth] += 1\n",
        "    if (node.left != None and node.right != None):\n",
        "        l = node.indices[valid[node.indices,node.attribute]<=node.aval]\n",
        "        r = node.indices[valid[node.indices,node.attribute]>node.aval]\n",
        "        node.left.indices = l\n",
        "        node.right.indices = r\n",
        "        get_accuracy_valid(node.left)\n",
        "        get_accuracy_valid(node.right)\n",
        "    return\n",
        "\n",
        "def get_accuracy_test(node):\n",
        "    global node_count_test\n",
        "    global acc_test\n",
        "    global total_test\n",
        "    datay = test[node.indices,482]\n",
        "    total_test[node.depth] += len(datay)\n",
        "    if (node.left == None and node.right == None):\n",
        "        total_test[node.depth+1:] += len(datay)\n",
        "    datay = datay[datay[:] == node.label]\n",
        "    acc_test[node.depth] += len(datay)\n",
        "    if (node.left == None and node.right == None):\n",
        "        acc_test[node.depth+1:] += len(datay)\n",
        "    node_count_test[node.depth] += 1\n",
        "    if (node.left != None and node.right != None):\n",
        "        l = node.indices[test[node.indices,node.attribute]<=node.aval]\n",
        "        r = node.indices[test[node.indices,node.attribute]>node.aval]\n",
        "        node.left.indices = l\n",
        "        node.right.indices = r\n",
        "        get_accuracy_test(node.left)\n",
        "        get_accuracy_test(node.right)\n",
        "    return"
      ],
      "execution_count": 0,
      "outputs": []
    },
    {
      "cell_type": "code",
      "metadata": {
        "id": "Rp0ATaPTCR7Q",
        "colab_type": "code",
        "colab": {}
      },
      "source": [
        "# do pruning\n",
        "root.indices = valid[:,483]\n",
        "prune(root)"
      ],
      "execution_count": 0,
      "outputs": []
    },
    {
      "cell_type": "code",
      "metadata": {
        "id": "QDn1Po_JV4Hb",
        "colab_type": "code",
        "outputId": "c31e6b4b-f796-4934-a4e1-2a43ccf9949b",
        "colab": {
          "base_uri": "https://localhost:8080/",
          "height": 312
        }
      },
      "source": [
        "# training set accuracy\n",
        "root.indices = train[:,483]\n",
        "acc = np.zeros((h_depth+1),dtype = 'int')\n",
        "total = np.zeros((h_depth+1),dtype = 'int')\n",
        "accuracies = np.zeros((h_depth+1),dtype = 'float')\n",
        "node_count = np.zeros((h_depth+1),dtype = 'int')\n",
        "\n",
        "get_accuracy(root)\n",
        "\n",
        "for i in range (h_depth+1):\n",
        "    accuracies[i] = float(acc[i])/len(train)\n",
        "\n",
        "for i in range (1,h_depth+1):\n",
        "    node_count[i] += node_count[i-1]\n",
        "\n",
        "print(\"Training set accuracy:\", accuracies[h_depth])\n",
        "plt.title('Training set Accuracy')\n",
        "plt.plot(node_count,accuracies)\n",
        "plt.xlabel('Number of nodes')\n",
        "plt.ylabel('Accuracy')\n",
        "plt.show()\n",
        "plt.savefig('/content/drive/My Drive/plot_train.png')\n",
        "plt.close()"
      ],
      "execution_count": 16,
      "outputs": [
        {
          "output_type": "stream",
          "text": [
            "Training set accuracy: 0.8072875620045431\n"
          ],
          "name": "stdout"
        },
        {
          "output_type": "display_data",
          "data": {
            "image/png": "[encoded data removed]",
            "text/plain": [
              "<Figure size 432x288 with 1 Axes>"
            ]
          },
          "metadata": {
            "tags": []
          }
        }
      ]
    },
    {
      "cell_type": "code",
      "metadata": {
        "id": "dc3_KxEQZMjp",
        "colab_type": "code",
        "outputId": "1f354f6e-55f4-45a8-92b5-40aa8538dbab",
        "colab": {
          "base_uri": "https://localhost:8080/",
          "height": 312
        }
      },
      "source": [
        "# test set accuracy\n",
        "acc_test = np.zeros((h_depth+1),dtype = 'int')\n",
        "total_test = np.zeros((h_depth+1),dtype = 'int')\n",
        "accuracies_test = np.zeros((h_depth+1),dtype = 'float')\n",
        "node_count_test = np.zeros((h_depth+1),dtype = 'int')\n",
        "\n",
        "root.indices = test[:,483]\n",
        "get_accuracy_test(root)\n",
        "\n",
        "for i in range (h_depth+1):\n",
        "    accuracies_test[i] = float(acc_test[i])/len(test)\n",
        "\n",
        "for i in range (1,h_depth+1):\n",
        "    node_count_test[i] += node_count_test[i-1]\n",
        "\n",
        "print(\"Test set accuracy\",accuracies_test[h_depth])\n",
        "\n",
        "plt.title('Test set Accuracy')\n",
        "plt.plot(node_count_test,accuracies_test)\n",
        "plt.xlabel('Number of nodes')\n",
        "plt.ylabel('Accuracy')\n",
        "plt.show()\n",
        "plt.savefig('/content/drive/My Drive/plot_test.png',transparent=False,facecolor = 'w',edgecolor = 'w')\n",
        "plt.close()"
      ],
      "execution_count": 18,
      "outputs": [
        {
          "output_type": "stream",
          "text": [
            "Test set accuracy 0.7902739789532243\n"
          ],
          "name": "stdout"
        },
        {
          "output_type": "display_data",
          "data": {
            "image/png": "[encoded data removed]",
            "text/plain": [
              "<Figure size 432x288 with 1 Axes>"
            ]
          },
          "metadata": {
            "tags": []
          }
        }
      ]
    },
    {
      "cell_type": "code",
      "metadata": {
        "id": "o0sXNjmobjk9",
        "colab_type": "code",
        "outputId": "b5f33c4e-8d92-4989-97b0-62ba05d4e377",
        "colab": {
          "base_uri": "https://localhost:8080/",
          "height": 312
        }
      },
      "source": [
        "# Validation set accuracy\n",
        "acc_valid = np.zeros((h_depth+1),dtype = 'int')\n",
        "total_valid = np.zeros((h_depth+1),dtype = 'int')\n",
        "accuracies_valid = np.zeros((h_depth+1),dtype = 'float')\n",
        "node_count_valid = np.zeros((h_depth+1),dtype = 'int')\n",
        "\n",
        "root.indices = valid[:,483]\n",
        "get_accuracy_valid(root)\n",
        "\n",
        "for i in range (h_depth+1):\n",
        "    accuracies_valid[i] = float(acc_valid[i])/len(valid)\n",
        "\n",
        "for i in range (1,h_depth+1):\n",
        "    node_count_valid[i] += node_count_valid[i-1]\n",
        "\n",
        "print(\"Validation set accuracy\",accuracies_valid[h_depth])\n",
        "\n",
        "plt.title('Validation set Accuracy')\n",
        "plt.plot(node_count_valid,accuracies_valid)\n",
        "plt.xlabel('Number of nodes')\n",
        "plt.ylabel('Accuracy')\n",
        "plt.show()\n",
        "plt.savefig('/content/plot_test.png')\n",
        "plt.close()"
      ],
      "execution_count": 17,
      "outputs": [
        {
          "output_type": "stream",
          "text": [
            "Validation set accuracy 0.7971908028926386\n"
          ],
          "name": "stdout"
        },
        {
          "output_type": "display_data",
          "data": {
            "image/png": "[encoded data removed]",
            "text/plain": [
              "<Figure size 432x288 with 1 Axes>"
            ]
          },
          "metadata": {
            "tags": []
          }
        }
      ]
    },
    {
      "cell_type": "code",
      "metadata": {
        "id": "ZYlzNoOueNX_",
        "colab_type": "code",
        "outputId": "27976abe-2fe8-417d-8c0e-1d784e210788",
        "colab": {
          "base_uri": "https://localhost:8080/",
          "height": 295
        }
      },
      "source": [
        "# plot for comaparison\n",
        "plt.plot(node_count,accuracies,color='red', label='training set')\n",
        "plt.plot(node_count,accuracies_valid, color='blue', label='validation set')\n",
        "plt.plot(node_count,accuracies_test, color='green', label='test set')\n",
        "plt.title('Comparison')\n",
        "plt.xlabel('Number of nodes')\n",
        "plt.ylabel('Accuracy')\n",
        "plt.legend()\n",
        "plt.show()\n",
        "plt.savefig('/content/plot_comparison.png')\n",
        "plt.close()"
      ],
      "execution_count": 19,
      "outputs": [
        {
          "output_type": "display_data",
          "data": {
            "image/png": "[encoded data removed]",
            "text/plain": [
              "<Figure size 432x288 with 1 Axes>"
            ]
          },
          "metadata": {
            "tags": []
          }
        }
      ]
    },
    {
      "cell_type": "code",
      "metadata": {
        "id": "pG4Qq5Pgcz_7",
        "colab_type": "code",
        "outputId": "fba67bd9-417e-4613-cfcc-eff4571f2f28",
        "colab": {
          "base_uri": "https://localhost:8080/",
          "height": 85
        }
      },
      "source": [
        "print(node_count_valid)"
      ],
      "execution_count": 20,
      "outputs": [
        {
          "output_type": "stream",
          "text": [
            "[   1    3    7   13   19   27   41   61   89  133  203  283  371  477\n",
            "  597  733  869 1019 1177 1355 1511 1655 1791 1913 2005 2079 2133 2185\n",
            " 2243 2301 2343 2377 2401 2429 2457 2483 2499 2515 2527 2541 2561 2583\n",
            " 2601 2621 2629 2629 2629 2629 2629 2629 2629 2629 2629]\n"
          ],
          "name": "stdout"
        }
      ]
    }
  ]
}